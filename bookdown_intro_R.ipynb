{
 "cells": [
  {
   "cell_type": "code",
   "execution_count": 4,
   "metadata": {
    "vscode": {
     "languageId": "r"
    }
   },
   "outputs": [
    {
     "data": {
      "text/html": [
       "12"
      ],
      "text/latex": [
       "12"
      ],
      "text/markdown": [
       "12"
      ],
      "text/plain": [
       "[1] 12"
      ]
     },
     "metadata": {},
     "output_type": "display_data"
    },
    {
     "data": {
      "text/html": [
       "<style>\n",
       ".list-inline {list-style: none; margin:0; padding: 0}\n",
       ".list-inline>li {display: inline-block}\n",
       ".list-inline>li:not(:last-child)::after {content: \"\\00b7\"; padding: 0 .5ex}\n",
       "</style>\n",
       "<ol class=list-inline><li>0</li><li>1</li><li>2</li><li>3</li><li>4</li><li>5</li><li>6</li><li>7</li><li>8</li><li>9</li></ol>\n"
      ],
      "text/latex": [
       "\\begin{enumerate*}\n",
       "\\item 0\n",
       "\\item 1\n",
       "\\item 2\n",
       "\\item 3\n",
       "\\item 4\n",
       "\\item 5\n",
       "\\item 6\n",
       "\\item 7\n",
       "\\item 8\n",
       "\\item 9\n",
       "\\end{enumerate*}\n"
      ],
      "text/markdown": [
       "1. 0\n",
       "2. 1\n",
       "3. 2\n",
       "4. 3\n",
       "5. 4\n",
       "6. 5\n",
       "7. 6\n",
       "8. 7\n",
       "9. 8\n",
       "10. 9\n",
       "\n",
       "\n"
      ],
      "text/plain": [
       " [1] 0 1 2 3 4 5 6 7 8 9"
      ]
     },
     "metadata": {},
     "output_type": "display_data"
    }
   ],
   "source": [
    "#1.3.1: Variable Assignment\n",
    "x <- 12\n",
    "x\n",
    "#create a vector of integers from 0-9\n",
    "some_numbers <- c(0:9)\n",
    "some_numbers\n"
   ]
  },
  {
   "cell_type": "code",
   "execution_count": 5,
   "metadata": {
    "vscode": {
     "languageId": "r"
    }
   },
   "outputs": [
    {
     "data": {
      "text/html": [
       "4.5"
      ],
      "text/latex": [
       "4.5"
      ],
      "text/markdown": [
       "4.5"
      ],
      "text/plain": [
       "[1] 4.5"
      ]
     },
     "metadata": {},
     "output_type": "display_data"
    }
   ],
   "source": [
    "#1.3.2: R functions\n",
    "mean(some_numbers)"
   ]
  },
  {
   "cell_type": "code",
   "execution_count": 6,
   "metadata": {
    "vscode": {
     "languageId": "r"
    }
   },
   "outputs": [
    {
     "name": "stderr",
     "output_type": "stream",
     "text": [
      "── \u001b[1mAttaching packages\u001b[22m ─────────────────────────────────────── tidyverse 1.3.2 ──\n",
      "\u001b[32m✔\u001b[39m \u001b[34mggplot2\u001b[39m 3.3.6      \u001b[32m✔\u001b[39m \u001b[34mpurrr  \u001b[39m 0.3.5 \n",
      "\u001b[32m✔\u001b[39m \u001b[34mtibble \u001b[39m 3.1.8      \u001b[32m✔\u001b[39m \u001b[34mdplyr  \u001b[39m 1.0.10\n",
      "\u001b[32m✔\u001b[39m \u001b[34mtidyr  \u001b[39m 1.2.1      \u001b[32m✔\u001b[39m \u001b[34mstringr\u001b[39m 1.4.1 \n",
      "\u001b[32m✔\u001b[39m \u001b[34mreadr  \u001b[39m 2.1.3      \u001b[32m✔\u001b[39m \u001b[34mforcats\u001b[39m 0.5.2 \n",
      "── \u001b[1mConflicts\u001b[22m ────────────────────────────────────────── tidyverse_conflicts() ──\n",
      "\u001b[31m✖\u001b[39m \u001b[34mdplyr\u001b[39m::\u001b[32mfilter()\u001b[39m masks \u001b[34mstats\u001b[39m::filter()\n",
      "\u001b[31m✖\u001b[39m \u001b[34mdplyr\u001b[39m::\u001b[32mlag()\u001b[39m    masks \u001b[34mstats\u001b[39m::lag()\n"
     ]
    }
   ],
   "source": [
    "#1.4: R Packages\n",
    "library(\"tidyverse\")"
   ]
  },
  {
   "cell_type": "code",
   "execution_count": 9,
   "metadata": {
    "vscode": {
     "languageId": "r"
    }
   },
   "outputs": [
    {
     "data": {
      "text/html": [
       "<table class=\"dataframe\">\n",
       "<caption>A data.frame: 5 × 27</caption>\n",
       "<thead>\n",
       "\t<tr><th></th><th scope=col>EmployerName</th><th scope=col>EmployerId</th><th scope=col>Address</th><th scope=col>PostCode</th><th scope=col>CompanyNumber</th><th scope=col>SicCodes</th><th scope=col>DiffMeanHourlyPercent</th><th scope=col>DiffMedianHourlyPercent</th><th scope=col>DiffMeanBonusPercent</th><th scope=col>DiffMedianBonusPercent</th><th scope=col>⋯</th><th scope=col>FemaleUpperMiddleQuartile</th><th scope=col>MaleTopQuartile</th><th scope=col>FemaleTopQuartile</th><th scope=col>CompanyLinkToGPGInfo</th><th scope=col>ResponsiblePerson</th><th scope=col>EmployerSize</th><th scope=col>CurrentName</th><th scope=col>SubmittedAfterTheDeadline</th><th scope=col>DueDate</th><th scope=col>DateSubmitted</th></tr>\n",
       "\t<tr><th></th><th scope=col>&lt;chr&gt;</th><th scope=col>&lt;int&gt;</th><th scope=col>&lt;chr&gt;</th><th scope=col>&lt;chr&gt;</th><th scope=col>&lt;chr&gt;</th><th scope=col>&lt;chr&gt;</th><th scope=col>&lt;dbl&gt;</th><th scope=col>&lt;dbl&gt;</th><th scope=col>&lt;dbl&gt;</th><th scope=col>&lt;dbl&gt;</th><th scope=col>⋯</th><th scope=col>&lt;dbl&gt;</th><th scope=col>&lt;dbl&gt;</th><th scope=col>&lt;dbl&gt;</th><th scope=col>&lt;chr&gt;</th><th scope=col>&lt;chr&gt;</th><th scope=col>&lt;chr&gt;</th><th scope=col>&lt;chr&gt;</th><th scope=col>&lt;chr&gt;</th><th scope=col>&lt;chr&gt;</th><th scope=col>&lt;chr&gt;</th></tr>\n",
       "</thead>\n",
       "<tbody>\n",
       "\t<tr><th scope=row>1</th><td>A.J.N. STEELSTOCK LTD.                        </td><td>14835</td><td>Icknield Way, Kentford, Newmarket, Suffolk, CB8 7QT                                   </td><td>CB8 7QT </td><td>00689647</td><td>46720    </td><td>16.2</td><td>  3.3</td><td>-20.0</td><td>  0.0</td><td>⋯</td><td>10.8</td><td>87.1</td><td>12.9</td><td>https://www.ajnsteelstock.co.uk/wp-content/uploads/2022/10/2022-Gender-Pay-Gap-Report.pdf</td><td>Courtney Bell (FD)              </td><td>250 to 499  </td><td>A.J.N. STEELSTOCK LTD.                        </td><td>False</td><td>2023/04/05 00:00:00</td><td>2022/10/11 15:34:17</td></tr>\n",
       "\t<tr><th scope=row>2</th><td>AB WORLD FOODS LIMITED                        </td><td>  764</td><td>Weston Centre, 10 Grosvenor Street, London, W1K 4QY                                   </td><td>W1K 4QY </td><td>01400901</td><td>10890    </td><td>-8.6</td><td>-12.3</td><td> 10.3</td><td>-20.8</td><td>⋯</td><td>33.7</td><td>44.6</td><td>55.4</td><td>https://abworldfoods.com/documents/ABWF_Gender_Pay_Gap_Narrative_2022.pdf                </td><td>Andy Mayhew (Managing Director) </td><td>250 to 499  </td><td>AB WORLD FOODS LIMITED                        </td><td>False</td><td>2023/04/05 00:00:00</td><td>2022/09/30 09:45:25</td></tr>\n",
       "\t<tr><th scope=row>3</th><td>ABACUS EMPLOYMENT SERVICES LIMITED            </td><td>  767</td><td>1 Chequers Road, Basingstoke, Hampshire, England, RG21 7PU                            </td><td>RG21 7PU</td><td>02638307</td><td>78200    </td><td>-3.0</td><td>  3.2</td><td>   NA</td><td>   NA</td><td>⋯</td><td>21.5</td><td>80.9</td><td>19.1</td><td>http://www.abacus-employment.com                                                         </td><td>Phil James (Finance Manager)    </td><td>250 to 499  </td><td>ABACUS EMPLOYMENT SERVICES LIMITED            </td><td>False</td><td>2023/04/05 00:00:00</td><td>2022/04/13 14:57:04</td></tr>\n",
       "\t<tr><th scope=row>4</th><td>Advisory, Conciliation and Arbitration Service</td><td>  496</td><td>8th Floor, Windsor House, 50 Victoria Street, London, London, United Kingdom, SW1H 0TL</td><td>SW1H 0TL</td><td>        </td><td>1,\n",
       "84110</td><td> 7.2</td><td>  6.1</td><td> 19.4</td><td>  9.9</td><td>⋯</td><td>63.2</td><td>51.8</td><td>48.2</td><td>https://www.acas.org.uk/acas-gender-pay-report/2021-to-2022-report                       </td><td>                                </td><td>1000 to 4999</td><td>Advisory, Conciliation and Arbitration Service</td><td>False</td><td>2023/03/31 00:00:00</td><td>2022/08/01 13:15:17</td></tr>\n",
       "\t<tr><th scope=row>5</th><td>AFH INDEPENDENT FINANCIAL SERVICES LIMITED    </td><td>19364</td><td>Afh House Buntsford Drive, Stoke Heath, Bromsgrove, Worcestershire, B60 4JE           </td><td>B60 4JE </td><td>04049180</td><td>64999    </td><td>25.0</td><td> 32.0</td><td>-33.0</td><td> 69.0</td><td>⋯</td><td>59.0</td><td>60.0</td><td>40.0</td><td>                                                                                         </td><td>Alison Court (Senior HR Adviser)</td><td>500 to 999  </td><td>AFH INDEPENDENT FINANCIAL SERVICES LIMITED    </td><td>False</td><td>2023/04/05 00:00:00</td><td>2022/05/20 11:24:09</td></tr>\n",
       "</tbody>\n",
       "</table>\n"
      ],
      "text/latex": [
       "A data.frame: 5 × 27\n",
       "\\begin{tabular}{r|lllllllllllllllllllll}\n",
       "  & EmployerName & EmployerId & Address & PostCode & CompanyNumber & SicCodes & DiffMeanHourlyPercent & DiffMedianHourlyPercent & DiffMeanBonusPercent & DiffMedianBonusPercent & ⋯ & FemaleUpperMiddleQuartile & MaleTopQuartile & FemaleTopQuartile & CompanyLinkToGPGInfo & ResponsiblePerson & EmployerSize & CurrentName & SubmittedAfterTheDeadline & DueDate & DateSubmitted\\\\\n",
       "  & <chr> & <int> & <chr> & <chr> & <chr> & <chr> & <dbl> & <dbl> & <dbl> & <dbl> & ⋯ & <dbl> & <dbl> & <dbl> & <chr> & <chr> & <chr> & <chr> & <chr> & <chr> & <chr>\\\\\n",
       "\\hline\n",
       "\t1 & A.J.N. STEELSTOCK LTD.                         & 14835 & Icknield Way, Kentford, Newmarket, Suffolk, CB8 7QT                                    & CB8 7QT  & 00689647 & 46720     & 16.2 &   3.3 & -20.0 &   0.0 & ⋯ & 10.8 & 87.1 & 12.9 & https://www.ajnsteelstock.co.uk/wp-content/uploads/2022/10/2022-Gender-Pay-Gap-Report.pdf & Courtney Bell (FD)               & 250 to 499   & A.J.N. STEELSTOCK LTD.                         & False & 2023/04/05 00:00:00 & 2022/10/11 15:34:17\\\\\n",
       "\t2 & AB WORLD FOODS LIMITED                         &   764 & Weston Centre, 10 Grosvenor Street, London, W1K 4QY                                    & W1K 4QY  & 01400901 & 10890     & -8.6 & -12.3 &  10.3 & -20.8 & ⋯ & 33.7 & 44.6 & 55.4 & https://abworldfoods.com/documents/ABWF\\_Gender\\_Pay\\_Gap\\_Narrative\\_2022.pdf                 & Andy Mayhew (Managing Director)  & 250 to 499   & AB WORLD FOODS LIMITED                         & False & 2023/04/05 00:00:00 & 2022/09/30 09:45:25\\\\\n",
       "\t3 & ABACUS EMPLOYMENT SERVICES LIMITED             &   767 & 1 Chequers Road, Basingstoke, Hampshire, England, RG21 7PU                             & RG21 7PU & 02638307 & 78200     & -3.0 &   3.2 &    NA &    NA & ⋯ & 21.5 & 80.9 & 19.1 & http://www.abacus-employment.com                                                          & Phil James (Finance Manager)     & 250 to 499   & ABACUS EMPLOYMENT SERVICES LIMITED             & False & 2023/04/05 00:00:00 & 2022/04/13 14:57:04\\\\\n",
       "\t4 & Advisory, Conciliation and Arbitration Service &   496 & 8th Floor, Windsor House, 50 Victoria Street, London, London, United Kingdom, SW1H 0TL & SW1H 0TL &          & 1,\n",
       "84110 &  7.2 &   6.1 &  19.4 &   9.9 & ⋯ & 63.2 & 51.8 & 48.2 & https://www.acas.org.uk/acas-gender-pay-report/2021-to-2022-report                        &                                  & 1000 to 4999 & Advisory, Conciliation and Arbitration Service & False & 2023/03/31 00:00:00 & 2022/08/01 13:15:17\\\\\n",
       "\t5 & AFH INDEPENDENT FINANCIAL SERVICES LIMITED     & 19364 & Afh House Buntsford Drive, Stoke Heath, Bromsgrove, Worcestershire, B60 4JE            & B60 4JE  & 04049180 & 64999     & 25.0 &  32.0 & -33.0 &  69.0 & ⋯ & 59.0 & 60.0 & 40.0 &                                                                                           & Alison Court (Senior HR Adviser) & 500 to 999   & AFH INDEPENDENT FINANCIAL SERVICES LIMITED     & False & 2023/04/05 00:00:00 & 2022/05/20 11:24:09\\\\\n",
       "\\end{tabular}\n"
      ],
      "text/markdown": [
       "\n",
       "A data.frame: 5 × 27\n",
       "\n",
       "| <!--/--> | EmployerName &lt;chr&gt; | EmployerId &lt;int&gt; | Address &lt;chr&gt; | PostCode &lt;chr&gt; | CompanyNumber &lt;chr&gt; | SicCodes &lt;chr&gt; | DiffMeanHourlyPercent &lt;dbl&gt; | DiffMedianHourlyPercent &lt;dbl&gt; | DiffMeanBonusPercent &lt;dbl&gt; | DiffMedianBonusPercent &lt;dbl&gt; | ⋯ ⋯ | FemaleUpperMiddleQuartile &lt;dbl&gt; | MaleTopQuartile &lt;dbl&gt; | FemaleTopQuartile &lt;dbl&gt; | CompanyLinkToGPGInfo &lt;chr&gt; | ResponsiblePerson &lt;chr&gt; | EmployerSize &lt;chr&gt; | CurrentName &lt;chr&gt; | SubmittedAfterTheDeadline &lt;chr&gt; | DueDate &lt;chr&gt; | DateSubmitted &lt;chr&gt; |\n",
       "|---|---|---|---|---|---|---|---|---|---|---|---|---|---|---|---|---|---|---|---|---|---|\n",
       "| 1 | A.J.N. STEELSTOCK LTD.                         | 14835 | Icknield Way, Kentford, Newmarket, Suffolk, CB8 7QT                                    | CB8 7QT  | 00689647 | 46720     | 16.2 |   3.3 | -20.0 |   0.0 | ⋯ | 10.8 | 87.1 | 12.9 | https://www.ajnsteelstock.co.uk/wp-content/uploads/2022/10/2022-Gender-Pay-Gap-Report.pdf | Courtney Bell (FD)               | 250 to 499   | A.J.N. STEELSTOCK LTD.                         | False | 2023/04/05 00:00:00 | 2022/10/11 15:34:17 |\n",
       "| 2 | AB WORLD FOODS LIMITED                         |   764 | Weston Centre, 10 Grosvenor Street, London, W1K 4QY                                    | W1K 4QY  | 01400901 | 10890     | -8.6 | -12.3 |  10.3 | -20.8 | ⋯ | 33.7 | 44.6 | 55.4 | https://abworldfoods.com/documents/ABWF_Gender_Pay_Gap_Narrative_2022.pdf                 | Andy Mayhew (Managing Director)  | 250 to 499   | AB WORLD FOODS LIMITED                         | False | 2023/04/05 00:00:00 | 2022/09/30 09:45:25 |\n",
       "| 3 | ABACUS EMPLOYMENT SERVICES LIMITED             |   767 | 1 Chequers Road, Basingstoke, Hampshire, England, RG21 7PU                             | RG21 7PU | 02638307 | 78200     | -3.0 |   3.2 |    NA |    NA | ⋯ | 21.5 | 80.9 | 19.1 | http://www.abacus-employment.com                                                          | Phil James (Finance Manager)     | 250 to 499   | ABACUS EMPLOYMENT SERVICES LIMITED             | False | 2023/04/05 00:00:00 | 2022/04/13 14:57:04 |\n",
       "| 4 | Advisory, Conciliation and Arbitration Service |   496 | 8th Floor, Windsor House, 50 Victoria Street, London, London, United Kingdom, SW1H 0TL | SW1H 0TL | <!----> | 1,\n",
       "84110 |  7.2 |   6.1 |  19.4 |   9.9 | ⋯ | 63.2 | 51.8 | 48.2 | https://www.acas.org.uk/acas-gender-pay-report/2021-to-2022-report                        | <!----> | 1000 to 4999 | Advisory, Conciliation and Arbitration Service | False | 2023/03/31 00:00:00 | 2022/08/01 13:15:17 |\n",
       "| 5 | AFH INDEPENDENT FINANCIAL SERVICES LIMITED     | 19364 | Afh House Buntsford Drive, Stoke Heath, Bromsgrove, Worcestershire, B60 4JE            | B60 4JE  | 04049180 | 64999     | 25.0 |  32.0 | -33.0 |  69.0 | ⋯ | 59.0 | 60.0 | 40.0 | <!----> | Alison Court (Senior HR Adviser) | 500 to 999   | AFH INDEPENDENT FINANCIAL SERVICES LIMITED     | False | 2023/04/05 00:00:00 | 2022/05/20 11:24:09 |\n",
       "\n"
      ],
      "text/plain": [
       "  EmployerName                                   EmployerId\n",
       "1 A.J.N. STEELSTOCK LTD.                         14835     \n",
       "2 AB WORLD FOODS LIMITED                           764     \n",
       "3 ABACUS EMPLOYMENT SERVICES LIMITED               767     \n",
       "4 Advisory, Conciliation and Arbitration Service   496     \n",
       "5 AFH INDEPENDENT FINANCIAL SERVICES LIMITED     19364     \n",
       "  Address                                                                               \n",
       "1 Icknield Way, Kentford, Newmarket, Suffolk, CB8 7QT                                   \n",
       "2 Weston Centre, 10 Grosvenor Street, London, W1K 4QY                                   \n",
       "3 1 Chequers Road, Basingstoke, Hampshire, England, RG21 7PU                            \n",
       "4 8th Floor, Windsor House, 50 Victoria Street, London, London, United Kingdom, SW1H 0TL\n",
       "5 Afh House Buntsford Drive, Stoke Heath, Bromsgrove, Worcestershire, B60 4JE           \n",
       "  PostCode CompanyNumber SicCodes  DiffMeanHourlyPercent\n",
       "1 CB8 7QT  00689647      46720     16.2                 \n",
       "2 W1K 4QY  01400901      10890     -8.6                 \n",
       "3 RG21 7PU 02638307      78200     -3.0                 \n",
       "4 SW1H 0TL               1,\\n84110  7.2                 \n",
       "5 B60 4JE  04049180      64999     25.0                 \n",
       "  DiffMedianHourlyPercent DiffMeanBonusPercent DiffMedianBonusPercent ⋯\n",
       "1   3.3                   -20.0                  0.0                  ⋯\n",
       "2 -12.3                    10.3                -20.8                  ⋯\n",
       "3   3.2                      NA                   NA                  ⋯\n",
       "4   6.1                    19.4                  9.9                  ⋯\n",
       "5  32.0                   -33.0                 69.0                  ⋯\n",
       "  FemaleUpperMiddleQuartile MaleTopQuartile FemaleTopQuartile\n",
       "1 10.8                      87.1            12.9             \n",
       "2 33.7                      44.6            55.4             \n",
       "3 21.5                      80.9            19.1             \n",
       "4 63.2                      51.8            48.2             \n",
       "5 59.0                      60.0            40.0             \n",
       "  CompanyLinkToGPGInfo                                                                     \n",
       "1 https://www.ajnsteelstock.co.uk/wp-content/uploads/2022/10/2022-Gender-Pay-Gap-Report.pdf\n",
       "2 https://abworldfoods.com/documents/ABWF_Gender_Pay_Gap_Narrative_2022.pdf                \n",
       "3 http://www.abacus-employment.com                                                         \n",
       "4 https://www.acas.org.uk/acas-gender-pay-report/2021-to-2022-report                       \n",
       "5                                                                                          \n",
       "  ResponsiblePerson                EmployerSize\n",
       "1 Courtney Bell (FD)               250 to 499  \n",
       "2 Andy Mayhew (Managing Director)  250 to 499  \n",
       "3 Phil James (Finance Manager)     250 to 499  \n",
       "4                                  1000 to 4999\n",
       "5 Alison Court (Senior HR Adviser) 500 to 999  \n",
       "  CurrentName                                    SubmittedAfterTheDeadline\n",
       "1 A.J.N. STEELSTOCK LTD.                         False                    \n",
       "2 AB WORLD FOODS LIMITED                         False                    \n",
       "3 ABACUS EMPLOYMENT SERVICES LIMITED             False                    \n",
       "4 Advisory, Conciliation and Arbitration Service False                    \n",
       "5 AFH INDEPENDENT FINANCIAL SERVICES LIMITED     False                    \n",
       "  DueDate             DateSubmitted      \n",
       "1 2023/04/05 00:00:00 2022/10/11 15:34:17\n",
       "2 2023/04/05 00:00:00 2022/09/30 09:45:25\n",
       "3 2023/04/05 00:00:00 2022/04/13 14:57:04\n",
       "4 2023/03/31 00:00:00 2022/08/01 13:15:17\n",
       "5 2023/04/05 00:00:00 2022/05/20 11:24:09"
      ]
     },
     "metadata": {},
     "output_type": "display_data"
    },
    {
     "data": {
      "text/html": [
       "<style>\n",
       ".list-inline {list-style: none; margin:0; padding: 0}\n",
       ".list-inline>li {display: inline-block}\n",
       ".list-inline>li:not(:last-child)::after {content: \"\\00b7\"; padding: 0 .5ex}\n",
       "</style>\n",
       "<ol class=list-inline><li>'EmployerName'</li><li>'EmployerId'</li><li>'Address'</li><li>'PostCode'</li><li>'CompanyNumber'</li><li>'SicCodes'</li><li>'DiffMeanHourlyPercent'</li><li>'DiffMedianHourlyPercent'</li><li>'DiffMeanBonusPercent'</li><li>'DiffMedianBonusPercent'</li><li>'MaleBonusPercent'</li><li>'FemaleBonusPercent'</li><li>'MaleLowerQuartile'</li><li>'FemaleLowerQuartile'</li><li>'MaleLowerMiddleQuartile'</li><li>'FemaleLowerMiddleQuartile'</li><li>'MaleUpperMiddleQuartile'</li><li>'FemaleUpperMiddleQuartile'</li><li>'MaleTopQuartile'</li><li>'FemaleTopQuartile'</li><li>'CompanyLinkToGPGInfo'</li><li>'ResponsiblePerson'</li><li>'EmployerSize'</li><li>'CurrentName'</li><li>'SubmittedAfterTheDeadline'</li><li>'DueDate'</li><li>'DateSubmitted'</li></ol>\n"
      ],
      "text/latex": [
       "\\begin{enumerate*}\n",
       "\\item 'EmployerName'\n",
       "\\item 'EmployerId'\n",
       "\\item 'Address'\n",
       "\\item 'PostCode'\n",
       "\\item 'CompanyNumber'\n",
       "\\item 'SicCodes'\n",
       "\\item 'DiffMeanHourlyPercent'\n",
       "\\item 'DiffMedianHourlyPercent'\n",
       "\\item 'DiffMeanBonusPercent'\n",
       "\\item 'DiffMedianBonusPercent'\n",
       "\\item 'MaleBonusPercent'\n",
       "\\item 'FemaleBonusPercent'\n",
       "\\item 'MaleLowerQuartile'\n",
       "\\item 'FemaleLowerQuartile'\n",
       "\\item 'MaleLowerMiddleQuartile'\n",
       "\\item 'FemaleLowerMiddleQuartile'\n",
       "\\item 'MaleUpperMiddleQuartile'\n",
       "\\item 'FemaleUpperMiddleQuartile'\n",
       "\\item 'MaleTopQuartile'\n",
       "\\item 'FemaleTopQuartile'\n",
       "\\item 'CompanyLinkToGPGInfo'\n",
       "\\item 'ResponsiblePerson'\n",
       "\\item 'EmployerSize'\n",
       "\\item 'CurrentName'\n",
       "\\item 'SubmittedAfterTheDeadline'\n",
       "\\item 'DueDate'\n",
       "\\item 'DateSubmitted'\n",
       "\\end{enumerate*}\n"
      ],
      "text/markdown": [
       "1. 'EmployerName'\n",
       "2. 'EmployerId'\n",
       "3. 'Address'\n",
       "4. 'PostCode'\n",
       "5. 'CompanyNumber'\n",
       "6. 'SicCodes'\n",
       "7. 'DiffMeanHourlyPercent'\n",
       "8. 'DiffMedianHourlyPercent'\n",
       "9. 'DiffMeanBonusPercent'\n",
       "10. 'DiffMedianBonusPercent'\n",
       "11. 'MaleBonusPercent'\n",
       "12. 'FemaleBonusPercent'\n",
       "13. 'MaleLowerQuartile'\n",
       "14. 'FemaleLowerQuartile'\n",
       "15. 'MaleLowerMiddleQuartile'\n",
       "16. 'FemaleLowerMiddleQuartile'\n",
       "17. 'MaleUpperMiddleQuartile'\n",
       "18. 'FemaleUpperMiddleQuartile'\n",
       "19. 'MaleTopQuartile'\n",
       "20. 'FemaleTopQuartile'\n",
       "21. 'CompanyLinkToGPGInfo'\n",
       "22. 'ResponsiblePerson'\n",
       "23. 'EmployerSize'\n",
       "24. 'CurrentName'\n",
       "25. 'SubmittedAfterTheDeadline'\n",
       "26. 'DueDate'\n",
       "27. 'DateSubmitted'\n",
       "\n",
       "\n"
      ],
      "text/plain": [
       " [1] \"EmployerName\"              \"EmployerId\"               \n",
       " [3] \"Address\"                   \"PostCode\"                 \n",
       " [5] \"CompanyNumber\"             \"SicCodes\"                 \n",
       " [7] \"DiffMeanHourlyPercent\"     \"DiffMedianHourlyPercent\"  \n",
       " [9] \"DiffMeanBonusPercent\"      \"DiffMedianBonusPercent\"   \n",
       "[11] \"MaleBonusPercent\"          \"FemaleBonusPercent\"       \n",
       "[13] \"MaleLowerQuartile\"         \"FemaleLowerQuartile\"      \n",
       "[15] \"MaleLowerMiddleQuartile\"   \"FemaleLowerMiddleQuartile\"\n",
       "[17] \"MaleUpperMiddleQuartile\"   \"FemaleUpperMiddleQuartile\"\n",
       "[19] \"MaleTopQuartile\"           \"FemaleTopQuartile\"        \n",
       "[21] \"CompanyLinkToGPGInfo\"      \"ResponsiblePerson\"        \n",
       "[23] \"EmployerSize\"              \"CurrentName\"              \n",
       "[25] \"SubmittedAfterTheDeadline\" \"DueDate\"                  \n",
       "[27] \"DateSubmitted\"            "
      ]
     },
     "metadata": {},
     "output_type": "display_data"
    },
    {
     "data": {
      "text/html": [
       "<style>\n",
       ".list-inline {list-style: none; margin:0; padding: 0}\n",
       ".list-inline>li {display: inline-block}\n",
       ".list-inline>li:not(:last-child)::after {content: \"\\00b7\"; padding: 0 .5ex}\n",
       "</style>\n",
       "<ol class=list-inline><li>353</li><li>27</li></ol>\n"
      ],
      "text/latex": [
       "\\begin{enumerate*}\n",
       "\\item 353\n",
       "\\item 27\n",
       "\\end{enumerate*}\n"
      ],
      "text/markdown": [
       "1. 353\n",
       "2. 27\n",
       "\n",
       "\n"
      ],
      "text/plain": [
       "[1] 353  27"
      ]
     },
     "metadata": {},
     "output_type": "display_data"
    }
   ],
   "source": [
    "#2.2: Loading Data\n",
    "paygap <- read.csv('./data/uk_gender_paygap_2022.csv', header = TRUE)\n",
    "#2.2.1: View Data\n",
    "head(paygap, n = 5)\n",
    "colnames(paygap)\n",
    "dim(paygap)"
   ]
  },
  {
   "cell_type": "code",
   "execution_count": 11,
   "metadata": {
    "vscode": {
     "languageId": "r"
    }
   },
   "outputs": [
    {
     "data": {
      "text/html": [
       "'data.frame'"
      ],
      "text/latex": [
       "'data.frame'"
      ],
      "text/markdown": [
       "'data.frame'"
      ],
      "text/plain": [
       "[1] \"data.frame\""
      ]
     },
     "metadata": {},
     "output_type": "display_data"
    },
    {
     "data": {
      "text/html": [
       "'numeric'"
      ],
      "text/latex": [
       "'numeric'"
      ],
      "text/markdown": [
       "'numeric'"
      ],
      "text/plain": [
       "[1] \"numeric\""
      ]
     },
     "metadata": {},
     "output_type": "display_data"
    }
   ],
   "source": [
    "#2.3: Basic Data Structures\n",
    "#Continuous data can take an infinitely many values (real numbers).\n",
    "#Discrete data can take on countable values only (integer numbers).\n",
    "#Categorical data fall into a finite number of categories or distinct groups.\n",
    "\n",
    "#2.3.1: data types in R\n",
    "#character – e.g. 'abcd'\n",
    "#integer – integer numbers, e.g. '2'\n",
    "#numeric – decimal numbers, e.g. '2.21'\n",
    "#complex – complex numbers, e.g. '2+2i'\n",
    "#logical – either TRUE or FALSE\n",
    "class(paygap)\n",
    "\n",
    "class(paygap$DiffMeanHourlyPercent)\n"
   ]
  },
  {
   "cell_type": "markdown",
   "metadata": {},
   "source": [
    "## I Stopped this tutorial here because the dataset does not seem to be available anymore. Please advise if you have a solution to this problem. Thanks."
   ]
  }
 ],
 "metadata": {
  "kernelspec": {
   "display_name": "R",
   "language": "R",
   "name": "ir"
  },
  "language_info": {
   "codemirror_mode": "r",
   "file_extension": ".r",
   "mimetype": "text/x-r-source",
   "name": "R",
   "pygments_lexer": "r",
   "version": "4.2.1"
  },
  "orig_nbformat": 4,
  "vscode": {
   "interpreter": {
    "hash": "2426c27b3d4358b4854808f4ee0ce0f5f1fa773e1ec013bafb32e978441c4793"
   }
  }
 },
 "nbformat": 4,
 "nbformat_minor": 2
}
